{
 "cells": [
  {
   "cell_type": "code",
   "execution_count": 1,
   "metadata": {},
   "outputs": [],
   "source": [
    "import pandas as pd\n",
    "import numpy as np\n",
    "\n",
    "#importting data\n",
    "\n",
    "cig_data = pd.read_csv(\"/Users/avanthpakanati/Desktop/ECON:HLTH Research Seminar /Homework3/data/Input/The_Tax_Burden_on_Tobacco__1970-2019_20250304.csv\")\n",
    "cpi_data = pd.read_excel(\"/Users/avanthpakanati/Desktop/ECON:HLTH Research Seminar /Homework3/data/Input/SeriesReport-20250226085315_38a6dd.xlsx\", skiprows=11)\n",
    "\n"
   ]
  },
  {
   "cell_type": "code",
   "execution_count": 2,
   "metadata": {},
   "outputs": [],
   "source": [
    "#cleaning tobacco data \n",
    "\n",
    "cig_data[\"measure\"] = cig_data[\"SubMeasureDesc\"].map({\n",
    "    \"Average Cost per pack\": \"cost_per_pack\",\n",
    "    \"Cigarette Consumption (Pack Sales Per Capita)\": \"sales_per_capita\",\n",
    "    \"Federal and State tax as a Percentage of Retail Price\": \"tax_percent\",\n",
    "    \"Federal and State Tax per pack\": \"tax_dollar\",\n",
    "    \"Gross Cigarette Tax Revenue\": \"tax_revenue\",\n",
    "    \"State Tax per pack\": \"tax_state\"\n",
    "})\n",
    "cig_data = cig_data.rename(columns={\n",
    "    \"LocationAbbr\": \"state_abb\", \n",
    "    \"LocationDesc\": \"state\", \n",
    "    \"Data_Value\": \"value\"\n",
    "})\n",
    "cig_data = cig_data[[\"state_abb\", \"state\", \"Year\", \"value\", \"measure\"]]\n",
    "\n"
   ]
  },
  {
   "cell_type": "code",
   "execution_count": 3,
   "metadata": {},
   "outputs": [],
   "source": [
    "final_data = cig_data.pivot(index=[\"state\", \"Year\"], columns=\"measure\", values=\"value\").reset_index()\n",
    "final_data = final_data.sort_values(by=[\"state\", \"Year\"])\n",
    "\n"
   ]
  },
  {
   "cell_type": "code",
   "execution_count": 4,
   "metadata": {},
   "outputs": [
    {
     "name": "stdout",
     "output_type": "stream",
     "text": [
      "Columns in DataFrame after skipping rows: ['Year', 'Jan', 'Feb', 'Mar', 'Apr', 'May', 'Jun', 'Jul', 'Aug', 'Sep', 'Oct', 'Nov', 'Dec', 'HALF1', 'HALF2']\n"
     ]
    }
   ],
   "source": [
    "# cleaning CPI data\n",
    "print(\"Columns in DataFrame after skipping rows:\", cpi_data.columns.tolist()) \n",
    "\n",
    "cpi_data = cpi_data.melt(id_vars=[\"Year\"], \n",
    "                          value_vars=[\"Jan\", \"Feb\", \"Mar\", \"Apr\", \"May\", \"Jun\", \"Jul\", \"Aug\", \"Sep\", \"Oct\", \"Nov\", \"Dec\"],\n",
    "                          var_name=\"month\", \n",
    "                          value_name=\"index\")\n",
    "\n",
    "cpi_data = cpi_data.groupby(\"Year\", as_index=False).agg({\"index\": \"mean\"})\n",
    "\n",
    "\n"
   ]
  },
  {
   "cell_type": "code",
   "execution_count": 11,
   "metadata": {},
   "outputs": [],
   "source": []
  },
  {
   "cell_type": "code",
   "execution_count": 5,
   "metadata": {},
   "outputs": [],
   "source": [
    "# Adjust to 2012 dollars\n",
    "final_data = final_data.merge(cpi_data, on=\"Year\", how=\"left\")\n",
    "cpi_2012 = cpi_data.loc[cpi_data['Year'] == 2012, 'index'].iloc[0]\n",
    "final_data[\"price_cpi\"] = final_data[\"cost_per_pack\"] * (cpi_2012 / final_data[\"index\"])\n",
    "final_data[\"tax_2012\"] = final_data[\"tax_dollar\"] * (cpi_2012 / final_data[\"index\"])"
   ]
  },
  {
   "cell_type": "code",
   "execution_count": 6,
   "metadata": {},
   "outputs": [],
   "source": [
    "final_data.to_csv(\"/Users/avanthpakanati/Desktop/ECON:HLTH Research Seminar /Homework3/data/Output/taxburden_data_new.csv\")"
   ]
  },
  {
   "cell_type": "code",
   "execution_count": null,
   "metadata": {},
   "outputs": [],
   "source": []
  }
 ],
 "metadata": {
  "kernelspec": {
   "display_name": "Python 3",
   "language": "python",
   "name": "python3"
  },
  "language_info": {
   "codemirror_mode": {
    "name": "ipython",
    "version": 3
   },
   "file_extension": ".py",
   "mimetype": "text/x-python",
   "name": "python",
   "nbconvert_exporter": "python",
   "pygments_lexer": "ipython3",
   "version": "3.9.21"
  }
 },
 "nbformat": 4,
 "nbformat_minor": 2
}
